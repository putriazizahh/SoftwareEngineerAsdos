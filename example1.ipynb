{
  "nbformat": 4,
  "nbformat_minor": 0,
  "metadata": {
    "colab": {
      "name": "example1.ipynb",
      "provenance": [],
      "collapsed_sections": []
    },
    "kernelspec": {
      "name": "python3",
      "display_name": "Python 3"
    },
    "language_info": {
      "name": "python"
    }
  },
  "cells": [
    {
      "cell_type": "code",
      "metadata": {
        "id": "mQtYirbMbclT"
      },
      "source": [
        "a = 10 #Integer\n",
        "b = 3.14 #Float\n",
        "c = \"A\" #String\n",
        "d = 'Putri Azizah' #String\n",
        "e = True #Boolean\n",
        "f = False #Boolean\n",
        "g = [] #List\n",
        "h = {} #Dictionary\n",
        "i = () #Tuple"
      ],
      "execution_count": null,
      "outputs": []
    },
    {
      "cell_type": "code",
      "metadata": {
        "colab": {
          "base_uri": "https://localhost:8080/"
        },
        "id": "WF_QGYl6cFsI",
        "outputId": "5cb1eb45-6353-4d36-9d3a-b0f9cabd1da4"
      },
      "source": [
        "print(\"Putri Azizah\")\n",
        "print('hai hai')"
      ],
      "execution_count": null,
      "outputs": [
        {
          "output_type": "stream",
          "name": "stdout",
          "text": [
            "Putri Azizah\n",
            "hai hai\n"
          ]
        }
      ]
    },
    {
      "cell_type": "code",
      "metadata": {
        "colab": {
          "base_uri": "https://localhost:8080/"
        },
        "id": "f31X2zOlcNGH",
        "outputId": "91f3faac-f19b-4c9c-ddcc-ea8dafd9f037"
      },
      "source": [
        "print(d)"
      ],
      "execution_count": null,
      "outputs": [
        {
          "output_type": "stream",
          "name": "stdout",
          "text": [
            "Putri Azizah\n"
          ]
        }
      ]
    },
    {
      "cell_type": "code",
      "metadata": {
        "colab": {
          "base_uri": "https://localhost:8080/"
        },
        "id": "gHnXZC-2caMK",
        "outputId": "a3d5cf87-71ca-49ba-b410-65e6faa3f322"
      },
      "source": [
        "# concate\n",
        "print(\"hai namaku \" + d)"
      ],
      "execution_count": null,
      "outputs": [
        {
          "output_type": "stream",
          "name": "stdout",
          "text": [
            "hai namaku Putri Azizah\n"
          ]
        }
      ]
    },
    {
      "cell_type": "code",
      "metadata": {
        "colab": {
          "base_uri": "https://localhost:8080/"
        },
        "id": "KJA6oGB6cg1k",
        "outputId": "81b185bf-481f-410b-c798-607633ca427c"
      },
      "source": [
        "print(\"hai namaku {}\".format(d))"
      ],
      "execution_count": null,
      "outputs": [
        {
          "output_type": "stream",
          "name": "stdout",
          "text": [
            "hai namaku Putri Azizah\n"
          ]
        }
      ]
    },
    {
      "cell_type": "code",
      "metadata": {
        "colab": {
          "base_uri": "https://localhost:8080/",
          "height": 163
        },
        "id": "iOf78L5lckdS",
        "outputId": "5593951d-bcf3-4b89-a152-ce9f2969edbc"
      },
      "source": [
        "print(\"nilainya adalah \" + a)"
      ],
      "execution_count": null,
      "outputs": [
        {
          "output_type": "error",
          "ename": "TypeError",
          "evalue": "ignored",
          "traceback": [
            "\u001b[0;31m---------------------------------------------------------------------------\u001b[0m",
            "\u001b[0;31mTypeError\u001b[0m                                 Traceback (most recent call last)",
            "\u001b[0;32m<ipython-input-18-ed2e684b521d>\u001b[0m in \u001b[0;36m<module>\u001b[0;34m()\u001b[0m\n\u001b[0;32m----> 1\u001b[0;31m \u001b[0mprint\u001b[0m\u001b[0;34m(\u001b[0m\u001b[0;34m\"nilainya adalah \"\u001b[0m \u001b[0;34m+\u001b[0m \u001b[0ma\u001b[0m\u001b[0;34m)\u001b[0m\u001b[0;34m\u001b[0m\u001b[0;34m\u001b[0m\u001b[0m\n\u001b[0m",
            "\u001b[0;31mTypeError\u001b[0m: can only concatenate str (not \"int\") to str"
          ]
        }
      ]
    },
    {
      "cell_type": "code",
      "metadata": {
        "colab": {
          "base_uri": "https://localhost:8080/"
        },
        "id": "ZUiOdcsicxbC",
        "outputId": "8456ca22-4d23-4c61-f292-4f401a983aca"
      },
      "source": [
        "print(\"nilainya adalah \" + str(a))"
      ],
      "execution_count": null,
      "outputs": [
        {
          "output_type": "stream",
          "name": "stdout",
          "text": [
            "nilainya adalah 10\n"
          ]
        }
      ]
    },
    {
      "cell_type": "code",
      "metadata": {
        "colab": {
          "base_uri": "https://localhost:8080/"
        },
        "id": "qAlwROhMc3fi",
        "outputId": "e34b21bd-48fd-4785-d0f4-945ae50f17b7"
      },
      "source": [
        "print(\"namaku {}, nilai ujianku {}, dan aku orang bekasi {}\".format(d, a, e))"
      ],
      "execution_count": null,
      "outputs": [
        {
          "output_type": "stream",
          "name": "stdout",
          "text": [
            "namaku Putri Azizah, nilai ujianku 10, dan aku orang bekasi True\n"
          ]
        }
      ]
    },
    {
      "cell_type": "code",
      "metadata": {
        "id": "aHO5U9kFdCCy"
      },
      "source": [
        "Sekolah = [\"Kelas\", 10, True, 3.14, [\"Bambang\", \"Budi\", \"Joko\"], {\"Hewan\":\"Gajah\"}]"
      ],
      "execution_count": null,
      "outputs": []
    },
    {
      "cell_type": "code",
      "metadata": {
        "colab": {
          "base_uri": "https://localhost:8080/"
        },
        "id": "5xeL_QewdO9g",
        "outputId": "e3d9da6f-5385-4b28-f98e-2638ac320094"
      },
      "source": [
        "print(Sekolah)"
      ],
      "execution_count": null,
      "outputs": [
        {
          "output_type": "stream",
          "name": "stdout",
          "text": [
            "['Kelas', 10, True, 3.14, ['Bambang', 'Budi', 'Joko'], {'Hewan': 'Gajah'}]\n"
          ]
        }
      ]
    },
    {
      "cell_type": "code",
      "metadata": {
        "colab": {
          "base_uri": "https://localhost:8080/"
        },
        "id": "YMPWU98odRPl",
        "outputId": "dd9311af-69c1-4587-b95c-924fcaac44d8"
      },
      "source": [
        "# for(int i=0;i<5;i+=2)\n",
        "Sekolah[0:5:2]"
      ],
      "execution_count": null,
      "outputs": [
        {
          "output_type": "execute_result",
          "data": {
            "text/plain": [
              "['Kelas', True, ['Bambang', 'Budi', 'Joko']]"
            ]
          },
          "metadata": {},
          "execution_count": 47
        }
      ]
    },
    {
      "cell_type": "code",
      "metadata": {
        "colab": {
          "base_uri": "https://localhost:8080/",
          "height": 35
        },
        "id": "D4hpe4C0dVt2",
        "outputId": "c441d7c2-bbec-4f4c-9c30-2ceaf9e5c959"
      },
      "source": [
        "Sekolah[0]"
      ],
      "execution_count": null,
      "outputs": [
        {
          "output_type": "execute_result",
          "data": {
            "application/vnd.google.colaboratory.intrinsic+json": {
              "type": "string"
            },
            "text/plain": [
              "'Kelas'"
            ]
          },
          "metadata": {},
          "execution_count": 26
        }
      ]
    },
    {
      "cell_type": "code",
      "metadata": {
        "colab": {
          "base_uri": "https://localhost:8080/",
          "height": 163
        },
        "id": "Be9S9su0dS9l",
        "outputId": "21f0a4ca-fa54-4b2e-ffc6-10ff1fb66288"
      },
      "source": [
        "sekolah[0]"
      ],
      "execution_count": null,
      "outputs": [
        {
          "output_type": "error",
          "ename": "NameError",
          "evalue": "ignored",
          "traceback": [
            "\u001b[0;31m---------------------------------------------------------------------------\u001b[0m",
            "\u001b[0;31mNameError\u001b[0m                                 Traceback (most recent call last)",
            "\u001b[0;32m<ipython-input-27-c431f3f5ad73>\u001b[0m in \u001b[0;36m<module>\u001b[0;34m()\u001b[0m\n\u001b[0;32m----> 1\u001b[0;31m \u001b[0msekolah\u001b[0m\u001b[0;34m[\u001b[0m\u001b[0;36m0\u001b[0m\u001b[0;34m]\u001b[0m\u001b[0;34m\u001b[0m\u001b[0;34m\u001b[0m\u001b[0m\n\u001b[0m",
            "\u001b[0;31mNameError\u001b[0m: name 'sekolah' is not defined"
          ]
        }
      ]
    },
    {
      "cell_type": "code",
      "metadata": {
        "colab": {
          "base_uri": "https://localhost:8080/",
          "height": 35
        },
        "id": "-eGUufNEdcXa",
        "outputId": "e729f734-252a-446d-c8b7-6f9d73095b79"
      },
      "source": [
        "Sekolah[4][0]"
      ],
      "execution_count": null,
      "outputs": [
        {
          "output_type": "execute_result",
          "data": {
            "application/vnd.google.colaboratory.intrinsic+json": {
              "type": "string"
            },
            "text/plain": [
              "'Bambang'"
            ]
          },
          "metadata": {},
          "execution_count": 28
        }
      ]
    },
    {
      "cell_type": "code",
      "metadata": {
        "colab": {
          "base_uri": "https://localhost:8080/",
          "height": 35
        },
        "id": "PodxIda5dfVS",
        "outputId": "2ea7c2c9-a941-44a8-b37e-6e3ee099a312"
      },
      "source": [
        "Sekolah[-1][\"Hewan\"]"
      ],
      "execution_count": null,
      "outputs": [
        {
          "output_type": "execute_result",
          "data": {
            "application/vnd.google.colaboratory.intrinsic+json": {
              "type": "string"
            },
            "text/plain": [
              "'Gajah'"
            ]
          },
          "metadata": {},
          "execution_count": 29
        }
      ]
    },
    {
      "cell_type": "code",
      "metadata": {
        "id": "pFM13D0vdhlQ"
      },
      "source": [
        "Nama_Siswa = [\"Bambang\", \"Budi\", \"Joko\", \"Alvin\", \"Said\", \"Mariano\", \"David\"]"
      ],
      "execution_count": null,
      "outputs": []
    },
    {
      "cell_type": "code",
      "metadata": {
        "colab": {
          "base_uri": "https://localhost:8080/"
        },
        "id": "j0hLLBQgdqOT",
        "outputId": "2176006b-ae63-4eb4-826d-1e919d40e7aa"
      },
      "source": [
        "# List slicing\n",
        "Nama_Siswa[2:5]"
      ],
      "execution_count": null,
      "outputs": [
        {
          "output_type": "execute_result",
          "data": {
            "text/plain": [
              "['Joko', 'Alvin', 'Said']"
            ]
          },
          "metadata": {},
          "execution_count": 45
        }
      ]
    },
    {
      "cell_type": "code",
      "metadata": {
        "colab": {
          "base_uri": "https://localhost:8080/"
        },
        "id": "5IO-K5UNdscM",
        "outputId": "db67613b-38f9-47a3-b0a0-ce666f22c796"
      },
      "source": [
        "Nama_Siswa[3:-1]"
      ],
      "execution_count": null,
      "outputs": [
        {
          "output_type": "execute_result",
          "data": {
            "text/plain": [
              "['Alvin', 'Said', 'Mariano']"
            ]
          },
          "metadata": {},
          "execution_count": 32
        }
      ]
    },
    {
      "cell_type": "code",
      "metadata": {
        "colab": {
          "base_uri": "https://localhost:8080/"
        },
        "id": "qGjRBu78dubp",
        "outputId": "e7060378-f2bc-45f2-c944-3bd848cf85ae"
      },
      "source": [
        "Nama_Siswa[-2:]"
      ],
      "execution_count": null,
      "outputs": [
        {
          "output_type": "execute_result",
          "data": {
            "text/plain": [
              "['Mariano', 'David']"
            ]
          },
          "metadata": {},
          "execution_count": 33
        }
      ]
    },
    {
      "cell_type": "code",
      "metadata": {
        "colab": {
          "base_uri": "https://localhost:8080/"
        },
        "id": "d2GR3Q8HdwdW",
        "outputId": "7c7ea54a-d6a2-4693-9c60-f17e4ebb7b4b"
      },
      "source": [
        "Nama_Siswa[-3:]"
      ],
      "execution_count": null,
      "outputs": [
        {
          "output_type": "execute_result",
          "data": {
            "text/plain": [
              "['Said', 'Mariano', 'David']"
            ]
          },
          "metadata": {},
          "execution_count": 34
        }
      ]
    },
    {
      "cell_type": "code",
      "metadata": {
        "id": "f8bKibmAdy1h"
      },
      "source": [
        "# [Awal index : setelah akhir index]"
      ],
      "execution_count": null,
      "outputs": []
    },
    {
      "cell_type": "code",
      "metadata": {
        "id": "TAfmcJvGd1oH"
      },
      "source": [
        "# Dictionary\n",
        "Dict1 = {\"Hewan\":\"Gajah\", 0:22, \"Boolean\":\"Benar\"}"
      ],
      "execution_count": null,
      "outputs": []
    },
    {
      "cell_type": "code",
      "metadata": {
        "colab": {
          "base_uri": "https://localhost:8080/",
          "height": 35
        },
        "id": "RyWHuklEd6MD",
        "outputId": "6f55ac78-d5ea-4206-d79b-319055a5942d"
      },
      "source": [
        "Dict1[\"Hewan\"]"
      ],
      "execution_count": null,
      "outputs": [
        {
          "output_type": "execute_result",
          "data": {
            "application/vnd.google.colaboratory.intrinsic+json": {
              "type": "string"
            },
            "text/plain": [
              "'Gajah'"
            ]
          },
          "metadata": {},
          "execution_count": 37
        }
      ]
    },
    {
      "cell_type": "code",
      "metadata": {
        "colab": {
          "base_uri": "https://localhost:8080/"
        },
        "id": "ReEqrkd-eEuu",
        "outputId": "c5f86bfd-d37c-47c0-8225-161362a69738"
      },
      "source": [
        "Dict1[0]"
      ],
      "execution_count": null,
      "outputs": [
        {
          "output_type": "execute_result",
          "data": {
            "text/plain": [
              "22"
            ]
          },
          "metadata": {},
          "execution_count": 40
        }
      ]
    },
    {
      "cell_type": "code",
      "metadata": {
        "colab": {
          "base_uri": "https://localhost:8080/",
          "height": 35
        },
        "id": "M8o9XPHHeGHe",
        "outputId": "0a4b59c3-b8aa-474b-e369-6025bee1ea6d"
      },
      "source": [
        "Dict1[\"Boolean\"]"
      ],
      "execution_count": null,
      "outputs": [
        {
          "output_type": "execute_result",
          "data": {
            "application/vnd.google.colaboratory.intrinsic+json": {
              "type": "string"
            },
            "text/plain": [
              "'Benar'"
            ]
          },
          "metadata": {},
          "execution_count": 41
        }
      ]
    },
    {
      "cell_type": "code",
      "metadata": {
        "colab": {
          "base_uri": "https://localhost:8080/",
          "height": 35
        },
        "id": "Yummgri5eId4",
        "outputId": "3c43b8d9-dc1a-43b3-843f-0ae3c2b13ab1"
      },
      "source": [
        "Nama_Siswa[6]"
      ],
      "execution_count": null,
      "outputs": [
        {
          "output_type": "execute_result",
          "data": {
            "application/vnd.google.colaboratory.intrinsic+json": {
              "type": "string"
            },
            "text/plain": [
              "'David'"
            ]
          },
          "metadata": {},
          "execution_count": 42
        }
      ]
    },
    {
      "cell_type": "code",
      "metadata": {
        "colab": {
          "base_uri": "https://localhost:8080/",
          "height": 35
        },
        "id": "YnJaUbJseKZb",
        "outputId": "c8bef2fc-d192-4570-bb62-e6aab645437d"
      },
      "source": [
        "Nama_Siswa[-1]"
      ],
      "execution_count": null,
      "outputs": [
        {
          "output_type": "execute_result",
          "data": {
            "application/vnd.google.colaboratory.intrinsic+json": {
              "type": "string"
            },
            "text/plain": [
              "'David'"
            ]
          },
          "metadata": {},
          "execution_count": 43
        }
      ]
    }
  ]
}
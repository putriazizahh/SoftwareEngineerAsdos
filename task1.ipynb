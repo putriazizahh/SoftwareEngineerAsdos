{
  "nbformat": 4,
  "nbformat_minor": 0,
  "metadata": {
    "colab": {
      "name": "task1.ipynb",
      "provenance": [],
      "collapsed_sections": []
    },
    "kernelspec": {
      "name": "python3",
      "display_name": "Python 3"
    },
    "language_info": {
      "name": "python"
    }
  },
  "cells": [
    {
      "cell_type": "code",
      "metadata": {
        "colab": {
          "base_uri": "https://localhost:8080/"
        },
        "id": "-atGoyNvdudd",
        "outputId": "49b5c70f-be98-4ff6-9d4c-d3d9f351503c"
      },
      "source": [
        "print(\"ini \" + str(2.5))"
      ],
      "execution_count": null,
      "outputs": [
        {
          "output_type": "stream",
          "name": "stdout",
          "text": [
            "ini 2.5\n"
          ]
        }
      ]
    }
  ]
}